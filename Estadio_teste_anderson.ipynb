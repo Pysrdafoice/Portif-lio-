{
  "nbformat": 4,
  "nbformat_minor": 0,
  "metadata": {
    "colab": {
      "provenance": [],
      "mount_file_id": "15bfw1vpJPJ8tLqo0TskfbTgqb_xrS3JM",
      "authorship_tag": "ABX9TyO4h9dpLwD185mirexJFOCR",
      "include_colab_link": true
    },
    "kernelspec": {
      "name": "python3",
      "display_name": "Python 3"
    },
    "language_info": {
      "name": "python"
    }
  },
  "cells": [
    {
      "cell_type": "markdown",
      "metadata": {
        "id": "view-in-github",
        "colab_type": "text"
      },
      "source": [
        "<a href=\"https://colab.research.google.com/github/Pysrdafoice/Portif-lio-/blob/main/Estadio_teste_anderson.ipynb\" target=\"_parent\"><img src=\"https://colab.research.google.com/assets/colab-badge.svg\" alt=\"Open In Colab\"/></a>"
      ]
    },
    {
      "cell_type": "code",
      "source": [
        "#1º exercício\n",
        "\n",
        "INDICE = 13\n",
        "SOMA = 0\n",
        "K = 0\n",
        "\n",
        "while K < INDICE:\n",
        "    K = K + 1\n",
        "    SOMA = SOMA + K\n",
        "\n",
        "print(SOMA)\n",
        "\n"
      ],
      "metadata": {
        "colab": {
          "base_uri": "https://localhost:8080/"
        },
        "id": "PwTo-cGPdJVN",
        "outputId": "ba186d84-dbaa-4466-c584-c0878af8944a"
      },
      "execution_count": null,
      "outputs": [
        {
          "output_type": "stream",
          "name": "stdout",
          "text": [
            "91\n"
          ]
        }
      ]
    },
    {
      "cell_type": "code",
      "execution_count": null,
      "metadata": {
        "colab": {
          "base_uri": "https://localhost:8080/"
        },
        "id": "uFXDZnBO2N20",
        "outputId": "6c0985fd-5e7a-49db-ff0d-b0d38e5d1001"
      },
      "outputs": [
        {
          "output_type": "stream",
          "name": "stdout",
          "text": [
            "Informe um número: 30\n",
            "O número 30 NÃO pertence à sequência de Fibonacci.\n"
          ]
        }
      ],
      "source": [
        "#2º exercício\n",
        "\n",
        "\n",
        "def fibonacci_sequence(limit):\n",
        "    fibonacci = [0, 1]\n",
        "    while fibonacci[-1] < limit:\n",
        "        next_value = fibonacci[-1] + fibonacci[-2]\n",
        "        fibonacci.append(next_value)\n",
        "    return fibonacci\n",
        "\n",
        "def is_in_fibonacci(number):\n",
        "    fibonacci = fibonacci_sequence(number)\n",
        "\n",
        "    if number in fibonacci:\n",
        "        return f\"O número {number} pertence à sequência de Fibonacci.\"\n",
        "    else:\n",
        "        return f\"O número {number} NÃO pertence à sequência de Fibonacci.\"\n",
        "\n",
        "numero = int(input(\"Informe um número: \"))\n",
        "\n",
        "resultado = is_in_fibonacci(numero)\n",
        "print(resultado)\n"
      ]
    },
    {
      "cell_type": "code",
      "source": [
        "#3º exercício\n",
        "\n",
        "import json\n",
        "\n",
        "with open(r\"/dados.json\", 'r') as f:\n",
        "    dado1 = json.load(f)\n",
        "with open(r\"/dados (2).xml\", 'r') as f:\n",
        "    dado2 = f.read()\n"
      ],
      "metadata": {
        "id": "trpV-587f4Kq"
      },
      "execution_count": null,
      "outputs": []
    },
    {
      "cell_type": "code",
      "source": [
        "faturamentos = [dia[\"valor\"] for dia in dado1 if dia[\"valor\"] > 0]\n",
        "\n",
        "menor_faturamento = min(faturamentos)\n",
        "\n",
        "maior_faturamento = max(faturamentos)\n",
        "\n",
        "media_faturamento = sum(faturamentos) / len(faturamentos)\n",
        "\n",
        "dias_acima_da_media = sum(1 for valor in faturamentos if valor > media_faturamento)\n",
        "\n",
        "print(f\"Menor valor de faturamento: {menor_faturamento:}\")\n",
        "print(f\"Maior valor de faturamento: {maior_faturamento}\")\n",
        "print(f\"Número de dias com faturamento acima da média: {dias_acima_da_media}\")"
      ],
      "metadata": {
        "colab": {
          "base_uri": "https://localhost:8080/"
        },
        "id": "qiYY19HBnQiM",
        "outputId": "c8020fcb-809f-49a5-b673-12acc009ddd9"
      },
      "execution_count": null,
      "outputs": [
        {
          "output_type": "stream",
          "name": "stdout",
          "text": [
            "Menor valor de faturamento: 373.7838\n",
            "Maior valor de faturamento: 48924.2448\n",
            "Número de dias com faturamento acima da média: 10\n"
          ]
        }
      ]
    },
    {
      "cell_type": "code",
      "source": [
        "#4º exercício\n",
        "nomes_e_valores = [\n",
        "    (\"SP\", 67.83643),\n",
        "    (\"RJ\", 36.67866),\n",
        "    (\"MG\", 29.22988),\n",
        "    (\"ES\", 27.16548),\n",
        "    (\"Outros\", 19.84953),\n",
        "]\n",
        "\n",
        "estados = {}\n",
        "for nome, valor in nomes_e_valores:\n",
        "    estados[nome] = valor\n",
        "\n",
        "print(estados)"
      ],
      "metadata": {
        "colab": {
          "base_uri": "https://localhost:8080/"
        },
        "id": "xgiuNeTQoUme",
        "outputId": "2db9d560-fdd4-423b-eca9-e46dc2eda8fa"
      },
      "execution_count": null,
      "outputs": [
        {
          "output_type": "stream",
          "name": "stdout",
          "text": [
            "{'SP': 67.83643, 'RJ': 36.67866, 'MG': 29.22988, 'ES': 27.16548, 'Outros': 19.84953}\n"
          ]
        }
      ]
    },
    {
      "cell_type": "code",
      "source": [
        "for estado, valor in estados.items():\n",
        "    print(f\"{estado}: {valor:.2f}%\")"
      ],
      "metadata": {
        "colab": {
          "base_uri": "https://localhost:8080/"
        },
        "id": "ggM8K61Rq38r",
        "outputId": "a78f2b79-baed-49e3-fac1-c1054d148a71"
      },
      "execution_count": null,
      "outputs": [
        {
          "output_type": "stream",
          "name": "stdout",
          "text": [
            "SP: 67.84%\n",
            "RJ: 36.68%\n",
            "MG: 29.23%\n",
            "ES: 27.17%\n",
            "Outros: 19.85%\n"
          ]
        }
      ]
    },
    {
      "cell_type": "code",
      "source": [
        "#5º exercício\n",
        "\n",
        "def inverter_string(s):\n",
        "    return s[::-1]\n",
        "\n",
        "# Exemplo de uso\n",
        "texto = \"1,2,3,4,5,6,7,8,9\" + \"-- \" + \"Wello word\"\n",
        "texto_invertido = inverter_string(texto)\n",
        "print(texto_invertido)  # Saída: !odnum ,álO\n"
      ],
      "metadata": {
        "colab": {
          "base_uri": "https://localhost:8080/"
        },
        "id": "_GKlBQ3Ir_Yh",
        "outputId": "b95c4997-d901-4b31-d105-8c11f5248d3b"
      },
      "execution_count": null,
      "outputs": [
        {
          "output_type": "stream",
          "name": "stdout",
          "text": [
            "drow olleW --9,8,7,6,5,4,3,2,1\n"
          ]
        }
      ]
    }
  ]
}